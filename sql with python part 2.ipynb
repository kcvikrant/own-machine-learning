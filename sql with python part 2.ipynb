{
 "cells": [
  {
   "cell_type": "code",
   "execution_count": 138,
   "metadata": {},
   "outputs": [],
   "source": [
    "import mysql.connector as mysql\n",
    "\n",
    "connection = mysql.connect(\n",
    "            host=\"localhost\",\n",
    "            user=\"root\",\n",
    "            password=\"6398577764\"\n",
    ")"
   ]
  },
  {
   "cell_type": "code",
   "execution_count": 139,
   "metadata": {},
   "outputs": [],
   "source": [
    "cursorobj = connection.cursor(buffered=True)"
   ]
  },
  {
   "cell_type": "code",
   "execution_count": 141,
   "metadata": {},
   "outputs": [],
   "source": [
    "cursorobj.execute(\"CREATE DATABASE newdatabase\")"
   ]
  },
  {
   "cell_type": "code",
   "execution_count": 148,
   "metadata": {},
   "outputs": [],
   "source": [
    "cursorobj.execute(\"SHOW DATABASES\")"
   ]
  },
  {
   "cell_type": "code",
   "execution_count": 149,
   "metadata": {},
   "outputs": [
    {
     "name": "stdout",
     "output_type": "stream",
     "text": [
      "[('information_schema',), ('mydatabase',), ('mysql',), ('newdatabase',), ('performance_schema',), ('sakila',), ('sys',), ('world',)]\n"
     ]
    }
   ],
   "source": [
    "db = cursorobj.fetchall()\n",
    "print(db)"
   ]
  },
  {
   "cell_type": "code",
   "execution_count": 166,
   "metadata": {},
   "outputs": [],
   "source": [
    "import mysql.connector as sql\n",
    "connection = sql.connect(\n",
    "         host=\"localhost\",\n",
    "         user=\"root\",\n",
    "         password=\"6398577764\",\n",
    "         database=\"newdatabase\"\n",
    ")"
   ]
  },
  {
   "cell_type": "code",
   "execution_count": 167,
   "metadata": {},
   "outputs": [],
   "source": [
    "cursor_object = connection.cursor(buffered=True)"
   ]
  },
  {
   "cell_type": "code",
   "execution_count": 168,
   "metadata": {},
   "outputs": [],
   "source": [
    "cursor_object.execute(\"CREATE TABLE users (name VARCHAR(255), user_name VARCHAR(255))\")"
   ]
  },
  {
   "cell_type": "code",
   "execution_count": 170,
   "metadata": {},
   "outputs": [],
   "source": [
    "cursor_object.execute(\"SHOW TABLES\")\n",
    "tables = cursor_object.fetchall()"
   ]
  },
  {
   "cell_type": "code",
   "execution_count": 175,
   "metadata": {},
   "outputs": [
    {
     "name": "stdout",
     "output_type": "stream",
     "text": [
      "('users',)\n"
     ]
    }
   ],
   "source": [
    "for table in tables:\n",
    "    print(table)"
   ]
  },
  {
   "cell_type": "code",
   "execution_count": 176,
   "metadata": {},
   "outputs": [],
   "source": [
    "cursor_object.execute(\"DROP TABLE users\")"
   ]
  },
  {
   "cell_type": "code",
   "execution_count": 179,
   "metadata": {},
   "outputs": [],
   "source": [
    "cursor_object.execute(\"CREATE TABLE users(id INT(11) NOT NULL AUTO_INCREMENT PRIMARY KEY, name VARCHAR(255),user_name VARCHAR(255))\")"
   ]
  },
  {
   "cell_type": "code",
   "execution_count": 181,
   "metadata": {},
   "outputs": [
    {
     "name": "stdout",
     "output_type": "stream",
     "text": [
      "[('id', b'int', 'NO', 'PRI', None, 'auto_increment'), ('name', b'varchar(255)', 'YES', '', None, ''), ('user_name', b'varchar(255)', 'YES', '', None, '')]\n"
     ]
    }
   ],
   "source": [
    "##'DESC table_name' is used to get all columns information\n",
    "cursor_object.execute(\"DESC users\")\n",
    "print(cursor_object.fetchall())"
   ]
  },
  {
   "cell_type": "code",
   "execution_count": 193,
   "metadata": {},
   "outputs": [],
   "source": [
    "##dropping primary key \n",
    "cursor_object.execute(\"ALTER TABLE users DROP id\")"
   ]
  },
  {
   "cell_type": "code",
   "execution_count": 208,
   "metadata": {},
   "outputs": [],
   "source": [
    "cursor_object.execute(\"ALTER TABLE users ADD COLUMN id INT(11) NOT NULL AUTO_INCREMENT PRIMARY KEY FIRST\")"
   ]
  },
  {
   "cell_type": "code",
   "execution_count": 191,
   "metadata": {},
   "outputs": [],
   "source": [
    "##insert data\n",
    "query = \"INSERT INTO users (name,user_name) VALUES (%s,%s)\"\n",
    "value = (\"vikrant\",\"kc\")\n",
    "cursor_object.execute(query,value)"
   ]
  },
  {
   "cell_type": "code",
   "execution_count": 195,
   "metadata": {},
   "outputs": [],
   "source": [
    "##to make final output\n",
    "connection.commit()"
   ]
  },
  {
   "cell_type": "code",
   "execution_count": 196,
   "metadata": {},
   "outputs": [],
   "source": [
    "##inserting multiple rows \n",
    "query = \"INSERT INTO users (name,user_name) VALUES (%s,%s)\"\n",
    "value =[\n",
    "    (\"Peter\",\"mark\"),\n",
    "    (\"Amy\",\"neuro\"),\n",
    "    (\"Michael\",\"jackson\"),\n",
    "    (\"Hennah\",\"peter\")\n",
    "]"
   ]
  },
  {
   "cell_type": "code",
   "execution_count": 197,
   "metadata": {},
   "outputs": [],
   "source": [
    "cursor_object.executemany(query,value)"
   ]
  },
  {
   "cell_type": "code",
   "execution_count": 198,
   "metadata": {},
   "outputs": [],
   "source": [
    "connection.commit()"
   ]
  },
  {
   "cell_type": "code",
   "execution_count": 199,
   "metadata": {},
   "outputs": [
    {
     "name": "stdout",
     "output_type": "stream",
     "text": [
      "4\n"
     ]
    }
   ],
   "source": [
    "print(cursor_object.rowcount)"
   ]
  },
  {
   "cell_type": "code",
   "execution_count": 201,
   "metadata": {},
   "outputs": [
    {
     "name": "stdout",
     "output_type": "stream",
     "text": [
      "[('vikrant', 'kc'), ('Peter', 'mark'), ('Amy', 'neuro'), ('Michael', 'jackson'), ('Hennah', 'peter')]\n"
     ]
    }
   ],
   "source": [
    "##select data\n",
    "##select column_names from table_name\n",
    "query = \"SELECT * FROM users\"\n",
    "cursor_object.execute(query)\n",
    "record = cursor_object.fetchall()\n",
    "print(record)\n"
   ]
  },
  {
   "cell_type": "code",
   "execution_count": 202,
   "metadata": {},
   "outputs": [
    {
     "name": "stdout",
     "output_type": "stream",
     "text": [
      "('vikrant', 'kc')\n",
      "('Peter', 'mark')\n",
      "('Amy', 'neuro')\n",
      "('Michael', 'jackson')\n",
      "('Hennah', 'peter')\n"
     ]
    }
   ],
   "source": [
    "for records in record:\n",
    "    print(records)"
   ]
  },
  {
   "cell_type": "code",
   "execution_count": 204,
   "metadata": {},
   "outputs": [
    {
     "name": "stdout",
     "output_type": "stream",
     "text": [
      "('kc',)\n",
      "('mark',)\n",
      "('neuro',)\n",
      "('jackson',)\n",
      "('peter',)\n"
     ]
    }
   ],
   "source": [
    "##getting some columns:\n",
    "query = \"SELECT user_name FROM users\"\n",
    "cursor_object.execute(query)\n",
    "usernames = cursor_object.fetchall()\n",
    "for username in usernames:\n",
    "    print(username)"
   ]
  },
  {
   "cell_type": "code",
   "execution_count": 205,
   "metadata": {},
   "outputs": [],
   "source": [
    "query = \"SELECT name,user_name FROM users\"\n",
    "cursor_object.execute(query)"
   ]
  },
  {
   "cell_type": "code",
   "execution_count": 206,
   "metadata": {},
   "outputs": [
    {
     "name": "stdout",
     "output_type": "stream",
     "text": [
      "('vikrant', 'kc')\n",
      "('Peter', 'mark')\n",
      "('Amy', 'neuro')\n",
      "('Michael', 'jackson')\n",
      "('Hennah', 'peter')\n"
     ]
    }
   ],
   "source": [
    "data = cursor_object.fetchall()\n",
    "for pair in data:\n",
    "    print(pair)"
   ]
  },
  {
   "cell_type": "code",
   "execution_count": 209,
   "metadata": {},
   "outputs": [],
   "source": [
    "### where \n",
    "query = \"SELECT * FROM users WHERE id=5\"\n",
    "cursor_object.execute(query)"
   ]
  },
  {
   "cell_type": "code",
   "execution_count": 211,
   "metadata": {},
   "outputs": [
    {
     "name": "stdout",
     "output_type": "stream",
     "text": [
      "(5, 'Hennah', 'peter')\n"
     ]
    }
   ],
   "source": [
    "##fetch all record from cursor_object\n",
    "records = cursor_object.fetchall()\n",
    "for record in records:\n",
    "    print(record)"
   ]
  },
  {
   "cell_type": "code",
   "execution_count": 213,
   "metadata": {},
   "outputs": [],
   "source": [
    "## order by ascending\n",
    "query = \"SELECT * FROM users ORDER BY name\"\n",
    "cursor_object.execute(query)"
   ]
  },
  {
   "cell_type": "code",
   "execution_count": 215,
   "metadata": {},
   "outputs": [
    {
     "name": "stdout",
     "output_type": "stream",
     "text": [
      "(3, 'Amy', 'neuro')\n",
      "(5, 'Hennah', 'peter')\n",
      "(4, 'Michael', 'jackson')\n",
      "(2, 'Peter', 'mark')\n",
      "(1, 'vikrant', 'kc')\n"
     ]
    }
   ],
   "source": [
    "records =  cursor_object.fetchall()\n",
    "for record in records:\n",
    "    print(record)"
   ]
  },
  {
   "cell_type": "code",
   "execution_count": 217,
   "metadata": {},
   "outputs": [],
   "source": [
    "## descending\n",
    "query = \"SELECT * FROM users ORDER BY name DESC\"\n",
    "cursor_object.execute(query)"
   ]
  },
  {
   "cell_type": "code",
   "execution_count": 218,
   "metadata": {},
   "outputs": [
    {
     "name": "stdout",
     "output_type": "stream",
     "text": [
      "(1, 'vikrant', 'kc')\n",
      "(2, 'Peter', 'mark')\n",
      "(4, 'Michael', 'jackson')\n",
      "(5, 'Hennah', 'peter')\n",
      "(3, 'Amy', 'neuro')\n"
     ]
    }
   ],
   "source": [
    "records = cursor_object.fetchall()\n",
    "for record in records:\n",
    "    print(record)"
   ]
  },
  {
   "cell_type": "code",
   "execution_count": 221,
   "metadata": {},
   "outputs": [],
   "source": [
    "## delete \n",
    "query = \"DELETE FROM users WHERE id = 5\"\n",
    "cursor_object.execute(query)"
   ]
  },
  {
   "cell_type": "code",
   "execution_count": 225,
   "metadata": {},
   "outputs": [],
   "source": [
    "connection.commit()"
   ]
  },
  {
   "cell_type": "code",
   "execution_count": 226,
   "metadata": {},
   "outputs": [],
   "source": [
    "query = \"SELECT * FROM users\"\n",
    "cursor_object.execute(query)"
   ]
  },
  {
   "cell_type": "code",
   "execution_count": 227,
   "metadata": {},
   "outputs": [
    {
     "name": "stdout",
     "output_type": "stream",
     "text": [
      "(1, 'vikrant', 'kc')\n",
      "(2, 'Peter', 'mark')\n",
      "(3, 'Amy', 'neuro')\n",
      "(4, 'Michael', 'jackson')\n"
     ]
    }
   ],
   "source": [
    "record = cursor_object.fetchall()\n",
    "for i in record:\n",
    "    print(i)"
   ]
  },
  {
   "cell_type": "code",
   "execution_count": 230,
   "metadata": {},
   "outputs": [],
   "source": [
    "###UPDATE \n",
    "query = \"UPDATE users SET name = 'vik' WHERE id = 1\"\n",
    "cursor_object.execute(query)"
   ]
  },
  {
   "cell_type": "code",
   "execution_count": 231,
   "metadata": {},
   "outputs": [],
   "source": [
    "connection.commit()"
   ]
  },
  {
   "cell_type": "code",
   "execution_count": 233,
   "metadata": {},
   "outputs": [],
   "source": [
    "query = \"SELECT * FROM users\"\n",
    "cursor_object.execute(query)"
   ]
  },
  {
   "cell_type": "code",
   "execution_count": 234,
   "metadata": {},
   "outputs": [
    {
     "name": "stdout",
     "output_type": "stream",
     "text": [
      "(1, 'vik', 'kc')\n",
      "(2, 'Peter', 'mark')\n",
      "(3, 'Amy', 'neuro')\n",
      "(4, 'Michael', 'jackson')\n"
     ]
    }
   ],
   "source": [
    "record = cursor_object.fetchall()\n",
    "for i in record:\n",
    "    print(i)"
   ]
  },
  {
   "cell_type": "code",
   "execution_count": null,
   "metadata": {},
   "outputs": [],
   "source": []
  }
 ],
 "metadata": {
  "kernelspec": {
   "display_name": "Python 3",
   "language": "python",
   "name": "python3"
  },
  "language_info": {
   "codemirror_mode": {
    "name": "ipython",
    "version": 3
   },
   "file_extension": ".py",
   "mimetype": "text/x-python",
   "name": "python",
   "nbconvert_exporter": "python",
   "pygments_lexer": "ipython3",
   "version": "3.8.2"
  }
 },
 "nbformat": 4,
 "nbformat_minor": 4
}
